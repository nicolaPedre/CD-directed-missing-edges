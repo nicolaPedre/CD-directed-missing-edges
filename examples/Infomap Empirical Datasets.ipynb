{
 "cells": [
  {
   "cell_type": "code",
   "execution_count": 2,
   "id": "7aace551",
   "metadata": {},
   "outputs": [
    {
     "name": "stdout",
     "output_type": "stream",
     "text": [
      "Could not load sparse_dot_mkl. Will use scipy.sparse for matrix products.\n"
     ]
    }
   ],
   "source": [
    "import pandas as pd\n",
    "import numpy as np\n",
    "from infomap import Infomap\n",
    "import networkx as nx\n",
    "import matplotlib.pyplot as plt\n",
    "import time\n"
   ]
  },
  {
   "cell_type": "markdown",
   "id": "6dc8437e",
   "metadata": {},
   "source": [
    "# Airports"
   ]
  },
  {
   "cell_type": "code",
   "execution_count": 3,
   "id": "73f31c4e",
   "metadata": {},
   "outputs": [],
   "source": [
    "times = np.logspace(-3,4,num=20)[2:-2]\n",
    "fracs = np.arange(5,96,5)"
   ]
  },
  {
   "cell_type": "code",
   "execution_count": 26,
   "id": "27705b74",
   "metadata": {},
   "outputs": [
    {
     "data": {
      "text/html": [
       "<div>\n",
       "<style scoped>\n",
       "    .dataframe tbody tr th:only-of-type {\n",
       "        vertical-align: middle;\n",
       "    }\n",
       "\n",
       "    .dataframe tbody tr th {\n",
       "        vertical-align: top;\n",
       "    }\n",
       "\n",
       "    .dataframe thead th {\n",
       "        text-align: right;\n",
       "    }\n",
       "</style>\n",
       "<table border=\"1\" class=\"dataframe\">\n",
       "  <thead>\n",
       "    <tr style=\"text-align: right;\">\n",
       "      <th></th>\n",
       "      <th>source</th>\n",
       "      <th>target</th>\n",
       "      <th>weight</th>\n",
       "    </tr>\n",
       "  </thead>\n",
       "  <tbody>\n",
       "    <tr>\n",
       "      <th>0</th>\n",
       "      <td>730</td>\n",
       "      <td>719</td>\n",
       "      <td>2</td>\n",
       "    </tr>\n",
       "    <tr>\n",
       "      <th>1</th>\n",
       "      <td>737</td>\n",
       "      <td>715</td>\n",
       "      <td>2</td>\n",
       "    </tr>\n",
       "    <tr>\n",
       "      <th>2</th>\n",
       "      <td>737</td>\n",
       "      <td>709</td>\n",
       "      <td>1</td>\n",
       "    </tr>\n",
       "    <tr>\n",
       "      <th>3</th>\n",
       "      <td>737</td>\n",
       "      <td>688</td>\n",
       "      <td>1</td>\n",
       "    </tr>\n",
       "    <tr>\n",
       "      <th>4</th>\n",
       "      <td>737</td>\n",
       "      <td>718</td>\n",
       "      <td>2</td>\n",
       "    </tr>\n",
       "    <tr>\n",
       "      <th>...</th>\n",
       "      <td>...</td>\n",
       "      <td>...</td>\n",
       "      <td>...</td>\n",
       "    </tr>\n",
       "    <tr>\n",
       "      <th>5782</th>\n",
       "      <td>1611</td>\n",
       "      <td>1612</td>\n",
       "      <td>1</td>\n",
       "    </tr>\n",
       "    <tr>\n",
       "      <th>5783</th>\n",
       "      <td>1382</td>\n",
       "      <td>1626</td>\n",
       "      <td>1</td>\n",
       "    </tr>\n",
       "    <tr>\n",
       "      <th>5784</th>\n",
       "      <td>1626</td>\n",
       "      <td>1382</td>\n",
       "      <td>1</td>\n",
       "    </tr>\n",
       "    <tr>\n",
       "      <th>5785</th>\n",
       "      <td>4091</td>\n",
       "      <td>1386</td>\n",
       "      <td>1</td>\n",
       "    </tr>\n",
       "    <tr>\n",
       "      <th>5786</th>\n",
       "      <td>1386</td>\n",
       "      <td>4091</td>\n",
       "      <td>1</td>\n",
       "    </tr>\n",
       "  </tbody>\n",
       "</table>\n",
       "<p>5787 rows × 3 columns</p>\n",
       "</div>"
      ],
      "text/plain": [
       "      source  target  weight\n",
       "0        730     719       2\n",
       "1        737     715       2\n",
       "2        737     709       1\n",
       "3        737     688       1\n",
       "4        737     718       2\n",
       "...      ...     ...     ...\n",
       "5782    1611    1612       1\n",
       "5783    1382    1626       1\n",
       "5784    1626    1382       1\n",
       "5785    4091    1386       1\n",
       "5786    1386    4091       1\n",
       "\n",
       "[5787 rows x 3 columns]"
      ]
     },
     "execution_count": 26,
     "metadata": {},
     "output_type": "execute_result"
    }
   ],
   "source": [
    "graph_name = 'flights'\n",
    "\n",
    "t = times[0]\n",
    "\n",
    "f = fracs[0]\n",
    "\n",
    "edge_list = pd.read_csv(\"replication Infomap/flights/airports_edgelist\")\n",
    "edge_list = edge_list.drop(\"Unnamed: 0\",axis=1)\n",
    "edge_list"
   ]
  },
  {
   "cell_type": "code",
   "execution_count": 27,
   "id": "2c91abc4",
   "metadata": {},
   "outputs": [],
   "source": [
    "linear_fwd = df_res['forward_nodes']\n",
    "\n",
    "linear_bck = df_res['backward_nodes']\n",
    "\n",
    "N = 349\n",
    "\n",
    "nodes_in_both = np.intersect1d(np.unique(linear_fwd),np.unique(linear_bck))\n",
    "nodes_only_fwd = np.setdiff1d(np.unique(linear_fwd),nodes_in_both)\n",
    "nodes_only_bckwd = np.setdiff1d(np.unique(linear_bck),nodes_in_both)"
   ]
  },
  {
   "cell_type": "code",
   "execution_count": 28,
   "id": "2d782fab",
   "metadata": {},
   "outputs": [],
   "source": [
    "f=fracs[12]\n",
    "graph_name = 'flights'"
   ]
  },
  {
   "cell_type": "code",
   "execution_count": 29,
   "id": "6ca94df2",
   "metadata": {},
   "outputs": [],
   "source": [
    "G_w = nx.from_pandas_edgelist(edge_list,edge_attr=True,create_using=nx.DiGraph())"
   ]
  },
  {
   "cell_type": "code",
   "execution_count": 30,
   "id": "0282c3c8",
   "metadata": {},
   "outputs": [],
   "source": [
    "im = Infomap(silent=True,two_level=True,num_trials=50,regularized=True,regularization_strength=0.1)\n",
    "im.add_networkx_graph(G_w)\n",
    "im.run()\n",
    "\n",
    "nodelist = G_w.nodes\n",
    "modules_gt = dict(im.modules)\n",
    "infomap_ground_truth_labs = [modules_gt[node] for node in nodelist]\n"
   ]
  },
  {
   "cell_type": "code",
   "execution_count": 31,
   "id": "5388ae51",
   "metadata": {},
   "outputs": [],
   "source": [
    "np.save(\"replication Infomap//flights/info_map_flights/ground_truth_infomap\",np.array(infomap_ground_truth_labs))"
   ]
  },
  {
   "cell_type": "code",
   "execution_count": 32,
   "id": "ced3e02e",
   "metadata": {},
   "outputs": [],
   "source": [
    "fracs = np.arange(5,96,5)\n",
    "\n",
    "for run in range(len(fracs)):\n",
    "    frac = fracs[run]\n",
    "    rand_edges = np.load(\"replication Infomap/flights/airports_w_list_of_removed_edges_perc_%s.npy\"%frac)\n",
    "    g = G_w.copy()\n",
    "    g.remove_edges_from(rand_edges)\n",
    "    \n",
    "    im = Infomap(silent=True,two_level=True,num_trials=50,regularized=True,regularization_strength=0.1)\n",
    "    im.add_networkx_graph(g)\n",
    "    im.run()\n",
    "\n",
    "    nodelist = g.nodes\n",
    "    modules_recon = dict(im.modules)\n",
    "    infomap_recon = [modules_recon[node] for node in nodelist]\n",
    "    np.save(\"replication Infomap/flights/info_map_flights/comm_labs_infomap_per_%s_0.1\"%frac,np.array(infomap_recon))\n"
   ]
  },
  {
   "cell_type": "code",
   "execution_count": null,
   "id": "74fb19e5",
   "metadata": {},
   "outputs": [],
   "source": []
  },
  {
   "cell_type": "code",
   "execution_count": 33,
   "id": "bea91b0a",
   "metadata": {},
   "outputs": [],
   "source": [
    "n_c_info = np.zeros(12)\n",
    "for run in range(12):\n",
    "    frac=fracs[run]\n",
    "    comms = np.load(\"replication Infomap/flights/info_map_flights/comm_labs_infomap_per_%s_0.1.npy\"%frac)\n",
    "    n_c_info[run] = np.max(comms)\n"
   ]
  },
  {
   "cell_type": "code",
   "execution_count": 34,
   "id": "acf4401d",
   "metadata": {},
   "outputs": [],
   "source": [
    "infomap_ground_truth_labs = np.load(\"replication Infomap/flights/info_map_flights/ground_truth_infomap.npy\")\n",
    "labels = np.unique(infomap_ground_truth_labs)\n",
    "list_comms_GT = []\n",
    "for i in labels:\n",
    "    idxs = np.where(infomap_ground_truth_labs==i)[0]\n",
    "    list_comms_GT.append(list(idxs))\n"
   ]
  },
  {
   "cell_type": "code",
   "execution_count": 35,
   "id": "e148d939",
   "metadata": {},
   "outputs": [],
   "source": [
    "from FlowStability import norm_mutual_information\n",
    "\n",
    "NMI_info_infoGT = np.zeros(12)\n",
    "\n",
    "for run in range(12):\n",
    "    comms = np.load(\"replication Infomap/flights/info_map_flights/comm_labs_infomap_per_%s_0.1.npy\"%fracs[run])\n",
    "\n",
    "    labels = np.unique(comms)\n",
    "    list_comms = []\n",
    "    for i in labels:\n",
    "        idxs = np.where(comms==i)[0]\n",
    "        list_comms.append(list(idxs))\n",
    "    \n",
    "    \n",
    "    NMI_info_infoGT[run] = norm_mutual_information([set(k) for k in list_comms_GT],[set(k) for k in list_comms])\n",
    "    \n",
    "\n"
   ]
  },
  {
   "cell_type": "code",
   "execution_count": 36,
   "id": "39cb23c0",
   "metadata": {},
   "outputs": [
    {
     "data": {
      "image/png": "[encoded data removed]",
      "text/plain": [
       "<Figure size 504x216 with 1 Axes>"
      ]
     },
     "metadata": {
      "needs_background": "light"
     },
     "output_type": "display_data"
    }
   ],
   "source": [
    "fig=plt.figure(figsize=(7,3))\n",
    "\n",
    "plt.yticks(fontsize=15)\n",
    "plt.plot(NMI_info_infoGT,linewidth=3,alpha=0.8,color='grey')\n",
    "plt.xticks(ticks=np.arange(0,len(fracs[:12]),1),labels=fracs[:12]/100,fontsize=15)\n",
    "plt.title('Airports',fontsize=20)\n",
    "plt.xlabel('$r$',fontsize=18)\n",
    "plt.ylabel('$NMI_{r=0}$',fontsize=18)\n",
    "plt.ylim(0.4,1)\n",
    "# plt.savefig(\"confronto_infomap_regGroudTruth_delta_NMI_airports.png\")\n",
    "# plt.savefig(\"confronto_infomap_regGroudTruth_delta_NMI_airports.svg\")\n",
    "plt.show()"
   ]
  },
  {
   "cell_type": "code",
   "execution_count": 37,
   "id": "1e92a1b8",
   "metadata": {},
   "outputs": [],
   "source": [
    "n_c = np.zeros(len(fracs))\n",
    "for run in range(len(fracs)):\n",
    "    frac=fracs[run]\n",
    "    comms = np.load(\"replication Infomap/flights/info_map_flights/comm_labs_infomap_per_%s_0.1.npy\"%frac)\n",
    "    n_c[run] = np.max(comms)"
   ]
  },
  {
   "cell_type": "code",
   "execution_count": 38,
   "id": "13d55faf",
   "metadata": {},
   "outputs": [
    {
     "data": {
      "image/png": "[encoded data removed]",
      "text/plain": [
       "<Figure size 504x216 with 1 Axes>"
      ]
     },
     "metadata": {
      "needs_background": "light"
     },
     "output_type": "display_data"
    }
   ],
   "source": [
    "fig=plt.figure(figsize=(7,3))\n",
    "plt.plot(n_c_info,linewidth=3,alpha=0.8,color='grey')\n",
    "plt.xticks(ticks=np.arange(0,len(fracs[:12]),1),labels=fracs[:12]/100,fontsize=15)\n",
    "plt.yticks(fontsize=15)\n",
    "plt.title('Airports',fontsize=20)\n",
    "plt.xlabel('$r$',fontsize=18)\n",
    "plt.ylabel('$n_c$',fontsize=18)\n",
    "\n",
    "\n",
    "plt.show()"
   ]
  },
  {
   "cell_type": "markdown",
   "id": "24f8650a",
   "metadata": {},
   "source": [
    "# Cora"
   ]
  },
  {
   "cell_type": "code",
   "execution_count": 39,
   "id": "79100d71",
   "metadata": {},
   "outputs": [],
   "source": [
    "edgelist = pd.read_csv(\"replication Infomap/cora/cora/cora.cites\", sep='\\t', header=None, names=[\"target\", \"source\"])\n",
    "edgelist[\"label\"] = \"cites\""
   ]
  },
  {
   "cell_type": "code",
   "execution_count": 40,
   "id": "0deddf2c",
   "metadata": {},
   "outputs": [],
   "source": [
    "Gnx = nx.from_pandas_edgelist(edgelist, edge_attr=\"label\",create_using=nx.DiGraph())\n"
   ]
  },
  {
   "cell_type": "code",
   "execution_count": 41,
   "id": "186c36d8",
   "metadata": {},
   "outputs": [],
   "source": [
    "im = Infomap(silent=True,two_level=True,num_trials=50,regularized=True,regularization_strength=0.4)\n",
    "im.add_networkx_graph(Gnx)\n",
    "im.run()\n",
    "\n",
    "nodelist = Gnx.nodes\n",
    "modules_gt = dict(im.modules)\n",
    "infomap_ground_truth_labs = [modules_gt[node] for node in nodelist]"
   ]
  },
  {
   "cell_type": "code",
   "execution_count": 42,
   "id": "bafa42c3",
   "metadata": {},
   "outputs": [],
   "source": [
    "np.save(\"replication Infomap/cora/infomap_cora/ground_truth_infomap_cora\",np.array(infomap_ground_truth_labs))"
   ]
  },
  {
   "cell_type": "code",
   "execution_count": 43,
   "id": "7c676a3f",
   "metadata": {},
   "outputs": [],
   "source": [
    "fracs = np.arange(5,96,5)\n",
    "\n",
    "for run in range(len(fracs)):\n",
    "    frac = fracs[run]\n",
    "    rand_edges = np.load(\"flow_stab_empirical/cora/citations_w_list_of_removed_edges_perc_%s.npy\"%frac)\n",
    "    g = Gnx.copy()\n",
    "    g.remove_edges_from(rand_edges)\n",
    "    \n",
    "    im = Infomap(silent=True,two_level=True,num_trials=50,regularized=True,regularization_strength=0.3)\n",
    "    im.add_networkx_graph(g)\n",
    "    im.run()\n",
    "\n",
    "    nodelist = g.nodes\n",
    "    modules_recon = dict(im.modules)\n",
    "    infomap_recon = [modules_recon[node] for node in nodelist]\n",
    "    np.save(\"replication Infomap/cora/infomap_cora//comm_labs_infomap_cora_per_%s_0.7\"%frac,np.array(infomap_recon))\n"
   ]
  },
  {
   "cell_type": "code",
   "execution_count": 44,
   "id": "83992998",
   "metadata": {},
   "outputs": [],
   "source": [
    "n_c_info = np.zeros(12)\n",
    "\n",
    "for run in range(12):\n",
    "    frac=fracs[run]\n",
    "    comms = np.load(\"replication Infomap/cora/infomap_cora//comm_labs_infomap_cora_per_%s_0.3.npy\"%frac)\n",
    "    n_c_info[run] = np.max(comms)\n"
   ]
  },
  {
   "cell_type": "code",
   "execution_count": 45,
   "id": "1f97f7ab",
   "metadata": {},
   "outputs": [
    {
     "data": {
      "image/png": "[encoded data removed]",
      "text/plain": [
       "<Figure size 504x216 with 1 Axes>"
      ]
     },
     "metadata": {
      "needs_background": "light"
     },
     "output_type": "display_data"
    }
   ],
   "source": [
    "fig=plt.figure(figsize=(7,3))\n",
    "plt.plot(n_c_info,linewidth=3,alpha=0.8,color='grey')\n",
    "plt.xticks(ticks=np.arange(0,len(fracs[:12]),1),labels=fracs[:12]/100,fontsize=15)\n",
    "plt.yticks(fontsize=15)\n",
    "plt.title('cora',fontsize=20)\n",
    "plt.xlabel('$r$',fontsize=18)\n",
    "plt.ylabel('$n_c$',fontsize=18)\n",
    "\n",
    "\n",
    "plt.show()"
   ]
  },
  {
   "cell_type": "code",
   "execution_count": 46,
   "id": "3d051ced",
   "metadata": {},
   "outputs": [],
   "source": [
    "comms = np.load(\"replication Infomap/flights/info_map_flights/comm_labs_infomap_per_%s_0.25.npy\"%5)\n",
    "\n",
    "labels = np.unique(comms)\n",
    "list_comms = []\n",
    "for i in labels:\n",
    "    idxs = np.where(comms==i)[0]\n",
    "    list_comms.append(list(idxs))\n",
    "    \n",
    "infomap_ground_truth_labs = np.load(\"replication Infomap/cora/infomap_cora/ground_truth_infomap_cora.npy\")\n",
    "labels = np.unique(infomap_ground_truth_labs)\n",
    "list_comms_GT = []\n",
    "for i in labels:\n",
    "    idxs = np.where(infomap_ground_truth_labs==i)[0]\n",
    "    list_comms_GT.append(list(idxs))"
   ]
  },
  {
   "cell_type": "code",
   "execution_count": 47,
   "id": "9c4d18b3",
   "metadata": {},
   "outputs": [],
   "source": [
    "from FlowStability import norm_mutual_information\n",
    "\n",
    "NMI_info_infoGT = np.zeros(12)\n",
    "\n",
    "for run in range(12):\n",
    "    comms = np.load(\"replication Infomap/cora/infomap_cora//comm_labs_infomap_cora_per_%s_0.3.npy\"%fracs[run])\n",
    "\n",
    "    labels = np.unique(comms)\n",
    "    list_comms = []\n",
    "    for i in labels:\n",
    "        idxs = np.where(comms==i)[0]\n",
    "        list_comms.append(list(idxs))\n",
    "    \n",
    "    \n",
    "    NMI_info_infoGT[run] = norm_mutual_information([set(k) for k in list_comms_GT],[set(k) for k in list_comms])\n",
    "    \n",
    "\n"
   ]
  },
  {
   "cell_type": "code",
   "execution_count": 48,
   "id": "15dcf4f3",
   "metadata": {},
   "outputs": [
    {
     "data": {
      "image/png": "[encoded data removed]",
      "text/plain": [
       "<Figure size 504x216 with 1 Axes>"
      ]
     },
     "metadata": {
      "needs_background": "light"
     },
     "output_type": "display_data"
    }
   ],
   "source": [
    "fig=plt.figure(figsize=(7,3))\n",
    "\n",
    "plt.yticks(fontsize=15)\n",
    "plt.plot(NMI_info_infoGT,linewidth=3,alpha=0.8,color='grey')\n",
    "plt.xticks(ticks=np.arange(0,len(fracs[:12]),1),labels=fracs[:12]/100,fontsize=15)\n",
    "plt.title('cora',fontsize=20)\n",
    "plt.xlabel('$r$',fontsize=18)\n",
    "plt.ylabel('$NMI_{r=0}$',fontsize=18)\n",
    "\n",
    "plt.show()"
   ]
  },
  {
   "cell_type": "markdown",
   "id": "590cb595",
   "metadata": {},
   "source": [
    "# Cit HEP-TH"
   ]
  },
  {
   "cell_type": "code",
   "execution_count": 49,
   "id": "5504a662",
   "metadata": {},
   "outputs": [
    {
     "name": "stderr",
     "output_type": "stream",
     "text": [
      "/tmp/ipykernel_18967/3916771336.py:1: DtypeWarning: Columns (0,1) have mixed types. Specify dtype option on import or set low_memory=False.\n",
      "  data = pd.read_csv('replication Infomap/cit_Hep/cit-HepTh.txt', sep=\"\\t\", names=['FromNodeId','ToNodeId'])\n"
     ]
    },
    {
     "data": {
      "text/html": [
       "<div>\n",
       "<style scoped>\n",
       "    .dataframe tbody tr th:only-of-type {\n",
       "        vertical-align: middle;\n",
       "    }\n",
       "\n",
       "    .dataframe tbody tr th {\n",
       "        vertical-align: top;\n",
       "    }\n",
       "\n",
       "    .dataframe thead th {\n",
       "        text-align: right;\n",
       "    }\n",
       "</style>\n",
       "<table border=\"1\" class=\"dataframe\">\n",
       "  <thead>\n",
       "    <tr style=\"text-align: right;\">\n",
       "      <th></th>\n",
       "      <th>FromNodeId</th>\n",
       "      <th>ToNodeId</th>\n",
       "    </tr>\n",
       "  </thead>\n",
       "  <tbody>\n",
       "    <tr>\n",
       "      <th>1</th>\n",
       "      <td>1001</td>\n",
       "      <td>9304045</td>\n",
       "    </tr>\n",
       "    <tr>\n",
       "      <th>2</th>\n",
       "      <td>1001</td>\n",
       "      <td>9308122</td>\n",
       "    </tr>\n",
       "    <tr>\n",
       "      <th>3</th>\n",
       "      <td>1001</td>\n",
       "      <td>9309097</td>\n",
       "    </tr>\n",
       "    <tr>\n",
       "      <th>4</th>\n",
       "      <td>1001</td>\n",
       "      <td>9311042</td>\n",
       "    </tr>\n",
       "    <tr>\n",
       "      <th>5</th>\n",
       "      <td>1001</td>\n",
       "      <td>9401139</td>\n",
       "    </tr>\n",
       "    <tr>\n",
       "      <th>...</th>\n",
       "      <td>...</td>\n",
       "      <td>...</td>\n",
       "    </tr>\n",
       "    <tr>\n",
       "      <th>352803</th>\n",
       "      <td>9912286</td>\n",
       "      <td>9805150</td>\n",
       "    </tr>\n",
       "    <tr>\n",
       "      <th>352804</th>\n",
       "      <td>9912286</td>\n",
       "      <td>9806074</td>\n",
       "    </tr>\n",
       "    <tr>\n",
       "      <th>352805</th>\n",
       "      <td>9912286</td>\n",
       "      <td>9808140</td>\n",
       "    </tr>\n",
       "    <tr>\n",
       "      <th>352806</th>\n",
       "      <td>9912286</td>\n",
       "      <td>9810068</td>\n",
       "    </tr>\n",
       "    <tr>\n",
       "      <th>352807</th>\n",
       "      <td>9912286</td>\n",
       "      <td>9901023</td>\n",
       "    </tr>\n",
       "  </tbody>\n",
       "</table>\n",
       "<p>352807 rows × 2 columns</p>\n",
       "</div>"
      ],
      "text/plain": [
       "       FromNodeId ToNodeId\n",
       "1            1001  9304045\n",
       "2            1001  9308122\n",
       "3            1001  9309097\n",
       "4            1001  9311042\n",
       "5            1001  9401139\n",
       "...           ...      ...\n",
       "352803    9912286  9805150\n",
       "352804    9912286  9806074\n",
       "352805    9912286  9808140\n",
       "352806    9912286  9810068\n",
       "352807    9912286  9901023\n",
       "\n",
       "[352807 rows x 2 columns]"
      ]
     },
     "execution_count": 49,
     "metadata": {},
     "output_type": "execute_result"
    }
   ],
   "source": [
    "data = pd.read_csv('replication Infomap/cit_Hep/cit-HepTh.txt', sep=\"\\t\", names=['FromNodeId','ToNodeId'])\n",
    "data=data.drop(0,axis=0)\n",
    "data"
   ]
  },
  {
   "cell_type": "code",
   "execution_count": 50,
   "id": "b481e3df",
   "metadata": {},
   "outputs": [],
   "source": [
    "edge_list = pd.DataFrame()\n",
    "edge_list['source'] = data['FromNodeId']\n",
    "edge_list['target'] = data['ToNodeId']"
   ]
  },
  {
   "cell_type": "code",
   "execution_count": 51,
   "id": "3473afd6",
   "metadata": {},
   "outputs": [],
   "source": [
    "#need smaller network for Delta FS\n",
    "edge_list_new = edge_list.loc[:55186]\n",
    "G_w = nx.from_pandas_edgelist(edge_list_new,create_using=nx.DiGraph())\n",
    "G_w = G_w.subgraph(list(G_w.nodes())[:4378]).copy()\n"
   ]
  },
  {
   "cell_type": "code",
   "execution_count": 52,
   "id": "fcf734a2",
   "metadata": {},
   "outputs": [],
   "source": [
    "im = Infomap(silent=True,two_level=True,num_trials=50,regularized=True,regularization_strength=0.1)\n",
    "im.add_networkx_graph(G_w)\n",
    "im.run()\n",
    "\n",
    "nodelist = G_w.nodes\n",
    "modules_gt = dict(im.modules)\n",
    "infomap_ground_truth_labs = [modules_gt[node] for node in range(len(nodelist))]"
   ]
  },
  {
   "cell_type": "code",
   "execution_count": 53,
   "id": "2eb50ef9",
   "metadata": {},
   "outputs": [],
   "source": [
    "np.save(\"replication Infomap/cit_Hep/info_map_cithep/ground_truth_infomap_cithep\",np.array(infomap_ground_truth_labs))"
   ]
  },
  {
   "cell_type": "code",
   "execution_count": 58,
   "id": "6d8235ab",
   "metadata": {},
   "outputs": [],
   "source": [
    "fracs = np.arange(5,96,5)\n",
    "\n",
    "for run in range(len(fracs)):\n",
    "    frac = fracs[run]\n",
    "    rand_edges = np.load(\"replication Infomap/cit_Hep/citations_w_list_of_removed_edges_perc_%s.npy\"%frac)\n",
    "    g = G_w.copy()\n",
    "    g.remove_edges_from(rand_edges)\n",
    "    \n",
    "    im = Infomap(silent=True,two_level=True,num_trials=50,regularized=True,regularization_strength=0.1)\n",
    "    im.add_networkx_graph(g)\n",
    "    im.run()\n",
    "\n",
    "    nodelist = g.nodes\n",
    "    modules_recon = dict(im.modules)\n",
    "    infomap_recon = [modules_recon[node] for node in range(len(nodelist))]\n",
    "    np.save(\"replication Infomap/cit_Hep/info_map_cithep/comm_labs_infomap_cithep_per_%s_0.1\"%frac,np.array(infomap_recon))\n"
   ]
  },
  {
   "cell_type": "code",
   "execution_count": 59,
   "id": "c4c50f75",
   "metadata": {},
   "outputs": [],
   "source": [
    "infomap_ground_truth_labs = np.load(\"replication Infomap/cit_Hep/info_map_cithep/ground_truth_infomap_cithep.npy\")\n",
    "labels = np.unique(infomap_ground_truth_labs)\n",
    "list_comms_GT = []\n",
    "for i in labels:\n",
    "    idxs = np.where(infomap_ground_truth_labs==i)[0]\n",
    "    list_comms_GT.append(list(idxs))\n"
   ]
  },
  {
   "cell_type": "code",
   "execution_count": 60,
   "id": "f1edd3b1",
   "metadata": {},
   "outputs": [],
   "source": [
    "n_c_info = np.zeros(12)\n",
    "for run in range(12):\n",
    "    frac=fracs[run]\n",
    "    comms = np.load(\"replication Infomap/cit_Hep/info_map_cithep/comm_labs_infomap_cithep_per_%s_0.1.npy\"%frac)\n",
    "    n_c_info[run] = np.max(comms)\n"
   ]
  },
  {
   "cell_type": "code",
   "execution_count": 61,
   "id": "e3567345",
   "metadata": {},
   "outputs": [
    {
     "data": {
      "image/png": "[encoded data removed]",
      "text/plain": [
       "<Figure size 504x216 with 1 Axes>"
      ]
     },
     "metadata": {
      "needs_background": "light"
     },
     "output_type": "display_data"
    }
   ],
   "source": [
    "fig=plt.figure(figsize=(7,3))\n",
    "plt.plot(n_c_info,linewidth=3,alpha=0.8,color='grey')\n",
    "plt.xticks(ticks=np.arange(0,len(fracs[:12]),1),labels=fracs[:12]/100,fontsize=15)\n",
    "plt.yticks(fontsize=15)\n",
    "plt.title('citHep',fontsize=20)\n",
    "plt.xlabel('$r$',fontsize=18)\n",
    "plt.ylabel('$n_c$',fontsize=18)\n",
    "# plt.savefig(\"confronto_infomap_delta_nc_citHep.png\")\n",
    "# plt.savefig(\"confronto_infomap_delta_nc_citHep.svg\")\n",
    "\n",
    "plt.show()"
   ]
  },
  {
   "cell_type": "code",
   "execution_count": 62,
   "id": "efa8a882",
   "metadata": {},
   "outputs": [],
   "source": [
    "from FlowStability import norm_mutual_information\n",
    "\n",
    "NMI_info_infoGT = np.zeros(12)\n",
    "\n",
    "for run in range(12):\n",
    "    comms = np.load(\"replication Infomap/cit_Hep/info_map_cithep/comm_labs_infomap_cithep_per_%s_0.1.npy\"%fracs[run])\n",
    "\n",
    "    labels = np.unique(comms)\n",
    "    list_comms = []\n",
    "    for i in labels:\n",
    "        idxs = np.where(comms==i)[0]\n",
    "        list_comms.append(list(idxs))\n",
    "    \n",
    "    \n",
    "    NMI_info_infoGT[run] = norm_mutual_information([set(k) for k in list_comms_GT],[set(k) for k in list_comms])\n",
    "    \n",
    "\n"
   ]
  },
  {
   "cell_type": "code",
   "execution_count": 63,
   "id": "578574ef",
   "metadata": {},
   "outputs": [
    {
     "data": {
      "image/png": "[encoded data removed]",
      "text/plain": [
       "<Figure size 504x216 with 1 Axes>"
      ]
     },
     "metadata": {
      "needs_background": "light"
     },
     "output_type": "display_data"
    }
   ],
   "source": [
    "fig=plt.figure(figsize=(7,3))\n",
    "\n",
    "plt.yticks(fontsize=15)\n",
    "plt.plot(NMI_info_infoGT,linewidth=3,alpha=0.8,color='grey')\n",
    "plt.xticks(ticks=np.arange(0,len(fracs[:12]),1),labels=fracs[:12]/100,fontsize=15)\n",
    "plt.title('citHep',fontsize=20)\n",
    "plt.xlabel('$r$',fontsize=18)\n",
    "plt.ylabel('$NMI_{r=0}$',fontsize=18)\n",
    "\n",
    "plt.show()"
   ]
  },
  {
   "cell_type": "code",
   "execution_count": null,
   "id": "5dc30d38",
   "metadata": {},
   "outputs": [],
   "source": []
  }
 ],
 "metadata": {
  "kernelspec": {
   "display_name": "pygen",
   "language": "python",
   "name": "pygen"
  },
  "language_info": {
   "codemirror_mode": {
    "name": "ipython",
    "version": 3
   },
   "file_extension": ".py",
   "mimetype": "text/x-python",
   "name": "python",
   "nbconvert_exporter": "python",
   "pygments_lexer": "ipython3",
   "version": "3.10.4"
  }
 },
 "nbformat": 4,
 "nbformat_minor": 5
}
