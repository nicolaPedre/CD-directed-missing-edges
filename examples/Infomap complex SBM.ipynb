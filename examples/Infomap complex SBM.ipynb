{
 "cells": [
  {
   "cell_type": "code",
   "execution_count": 1,
   "id": "02fbb420",
   "metadata": {},
   "outputs": [
    {
     "name": "stdout",
     "output_type": "stream",
     "text": [
      "Could not load sparse_dot_mkl. Will use scipy.sparse for matrix products.\n"
     ]
    }
   ],
   "source": [
    "import pandas as pd\n",
    "import numpy as np\n",
    "from infomap import Infomap\n",
    "import networkx as nx\n",
    "import matplotlib.pyplot as plt\n",
    "import time\n"
   ]
  },
  {
   "cell_type": "markdown",
   "id": "d1dd6fac",
   "metadata": {},
   "source": [
    "# Load the synthetic networks"
   ]
  },
  {
   "cell_type": "code",
   "execution_count": 3,
   "id": "3e001dfc",
   "metadata": {},
   "outputs": [],
   "source": [
    "p_core = 0.4\n",
    "tikese = np.arange(0,96,5)\n",
    "\n",
    "\n",
    "p_in_sinks_sources = np.arange(0,p_core,0.05)\n",
    "p_out_sinks_sources = np.arange(0.1,p_core,0.05)"
   ]
  },
  {
   "cell_type": "code",
   "execution_count": 20,
   "id": "9775ac3e",
   "metadata": {},
   "outputs": [],
   "source": [
    "p_in = p_in_sinks_sources[-1]\n",
    "p_out = p_out_sinks_sources[0]\n",
    "adj = np.load('replication Infomap/SBMs/complex_sbms/complex_w_ecore04_pin%s_pout%s_dir_graph_random_frac_Eremoved%s.npy'%(p_in,p_out,tikese[0]))\n",
    "\n",
    "G = nx.from_numpy_array(adj,create_using=nx.DiGraph())\n",
    "\n",
    "edge_list = list(G.edges)\n",
    "nodes = list(G.nodes)\n",
    "E = len(edge_list)\n",
    "list_of_graphs = [G]\n",
    "for frac in np.arange(1,len(tikese),1):\n",
    "    gr0 = np.load('replication Infomap/SBMs/complex_sbms/complex_w_ecore04_pin%s_pout%s_dir_graph_random_frac_Eremoved%s.npy'%(p_in,p_out,tikese[frac]))\n",
    "    G0 = nx.from_numpy_array(gr0,create_using=nx.DiGraph())\n",
    "\n",
    "    list_of_graphs.append(G0)\n",
    "\n",
    "\n",
    "\n",
    "\n"
   ]
  },
  {
   "cell_type": "code",
   "execution_count": 21,
   "id": "9d059f0a",
   "metadata": {},
   "outputs": [
    {
     "data": {
      "text/plain": [
       "0.35000000000000003"
      ]
     },
     "execution_count": 21,
     "metadata": {},
     "output_type": "execute_result"
    }
   ],
   "source": [
    "p_in"
   ]
  },
  {
   "cell_type": "code",
   "execution_count": 22,
   "id": "fb763574",
   "metadata": {},
   "outputs": [
    {
     "data": {
      "text/plain": [
       "0.1"
      ]
     },
     "execution_count": 22,
     "metadata": {},
     "output_type": "execute_result"
    }
   ],
   "source": [
    "p_out"
   ]
  },
  {
   "cell_type": "markdown",
   "id": "c9f89012",
   "metadata": {},
   "source": [
    "# Ground truth partition"
   ]
  },
  {
   "cell_type": "code",
   "execution_count": 23,
   "id": "f846e82a",
   "metadata": {},
   "outputs": [],
   "source": [
    "communities_new = np.concatenate([np.repeat(1,20),np.repeat(2,20),np.repeat(3,60),np.repeat(4,60),np.repeat(5,20),np.repeat(6,20)])\n"
   ]
  },
  {
   "cell_type": "markdown",
   "id": "ef3bc12e",
   "metadata": {},
   "source": [
    "# Run infomap on one network"
   ]
  },
  {
   "cell_type": "code",
   "execution_count": 24,
   "id": "fa51ff99",
   "metadata": {},
   "outputs": [],
   "source": [
    "# infomap\n",
    "G_w=list_of_graphs[0]\n",
    "im = Infomap(silent=True,two_level=True,num_trials=50,regularized=True,regularization_strength=0.3,directed=True)\n",
    "im.add_networkx_graph(G_w)\n",
    "im.run()\n",
    "\n",
    "nodelist = G_w.nodes\n",
    "modules_gt = dict(im.modules)\n",
    "infomap_ground_truth_labs = [modules_gt[node] for node in nodelist]"
   ]
  },
  {
   "cell_type": "code",
   "execution_count": 25,
   "id": "dfa26733",
   "metadata": {},
   "outputs": [
    {
     "data": {
      "text/plain": [
       "[<matplotlib.lines.Line2D at 0x7f4e6290df30>]"
      ]
     },
     "execution_count": 25,
     "metadata": {},
     "output_type": "execute_result"
    },
    {
     "data": {
      "image/png": "[encoded data removed]",
      "text/plain": [
       "<Figure size 432x288 with 1 Axes>"
      ]
     },
     "metadata": {
      "needs_background": "light"
     },
     "output_type": "display_data"
    }
   ],
   "source": [
    "plt.plot(infomap_ground_truth_labs)"
   ]
  },
  {
   "cell_type": "code",
   "execution_count": 10,
   "id": "38166095",
   "metadata": {},
   "outputs": [],
   "source": [
    "from sklearn.metrics.cluster import normalized_mutual_info_score\n",
    "\n",
    "\n",
    "n_c_info_sbm = np.zeros(20)\n",
    "nmi_info = np.zeros(20)\n",
    "for i in range(20):\n",
    "    G_w=list_of_graphs[i]\n",
    "    im = Infomap(silent=True,two_level=True,num_trials=50,regularized=True,regularization_strength=0.3)\n",
    "    im.add_networkx_graph(G_w)\n",
    "    im.run()\n",
    "\n",
    "    nodelist = G_w.nodes\n",
    "    modules = dict(im.modules)\n",
    "    infomap_ground_new = [modules[node] for node in nodelist]\n",
    "    nmi_info[i] = normalized_mutual_info_score(communities_new,infomap_ground_new)\n",
    "    n_c_info_sbm[i] = np.max(infomap_ground_new)\n",
    "    "
   ]
  },
  {
   "cell_type": "code",
   "execution_count": 11,
   "id": "0a202ece",
   "metadata": {},
   "outputs": [
    {
     "data": {
      "text/plain": [
       "[<matplotlib.lines.Line2D at 0x7f4e945172b0>]"
      ]
     },
     "execution_count": 11,
     "metadata": {},
     "output_type": "execute_result"
    },
    {
     "data": {
      "image/png": "[encoded data removed]",
      "text/plain": [
       "<Figure size 432x288 with 1 Axes>"
      ]
     },
     "metadata": {
      "needs_background": "light"
     },
     "output_type": "display_data"
    }
   ],
   "source": [
    "plt.plot(nmi_info)"
   ]
  },
  {
   "cell_type": "code",
   "execution_count": 12,
   "id": "1c9029b1",
   "metadata": {},
   "outputs": [
    {
     "data": {
      "text/plain": [
       "[<matplotlib.lines.Line2D at 0x7f4e5c34d540>]"
      ]
     },
     "execution_count": 12,
     "metadata": {},
     "output_type": "execute_result"
    },
    {
     "data": {
      "image/png": "[encoded data removed]",
      "text/plain": [
       "<Figure size 432x288 with 1 Axes>"
      ]
     },
     "metadata": {
      "needs_background": "light"
     },
     "output_type": "display_data"
    }
   ],
   "source": [
    "plt.plot(n_c_info_sbm)"
   ]
  },
  {
   "cell_type": "markdown",
   "id": "58dd7df4",
   "metadata": {},
   "source": [
    "# Run Infomap for all $(p_{in},p_{out})$"
   ]
  },
  {
   "cell_type": "code",
   "execution_count": 13,
   "id": "1aa5349b",
   "metadata": {},
   "outputs": [
    {
     "name": "stdout",
     "output_type": "stream",
     "text": [
      "p_in 0.0\n",
      "p_out 0.1\n",
      "p_in 0.0\n",
      "p_out 0.15000000000000002\n",
      "p_in 0.0\n",
      "p_out 0.20000000000000004\n",
      "p_in 0.0\n",
      "p_out 0.25000000000000006\n",
      "p_in 0.0\n",
      "p_out 0.30000000000000004\n",
      "p_in 0.0\n",
      "p_out 0.3500000000000001\n",
      "p_in 0.0\n",
      "p_out 0.40000000000000013\n",
      "p_in 0.05\n",
      "p_out 0.1\n",
      "p_in 0.05\n",
      "p_out 0.15000000000000002\n",
      "p_in 0.05\n",
      "p_out 0.20000000000000004\n",
      "p_in 0.05\n",
      "p_out 0.25000000000000006\n",
      "p_in 0.05\n",
      "p_out 0.30000000000000004\n",
      "p_in 0.05\n",
      "p_out 0.3500000000000001\n",
      "p_in 0.05\n",
      "p_out 0.40000000000000013\n",
      "p_in 0.1\n",
      "p_out 0.1\n",
      "p_in 0.1\n",
      "p_out 0.15000000000000002\n",
      "p_in 0.1\n",
      "p_out 0.20000000000000004\n",
      "p_in 0.1\n",
      "p_out 0.25000000000000006\n",
      "p_in 0.1\n",
      "p_out 0.30000000000000004\n",
      "p_in 0.1\n",
      "p_out 0.3500000000000001\n",
      "p_in 0.1\n",
      "p_out 0.40000000000000013\n",
      "p_in 0.15000000000000002\n",
      "p_out 0.1\n",
      "p_in 0.15000000000000002\n",
      "p_out 0.15000000000000002\n",
      "p_in 0.15000000000000002\n",
      "p_out 0.20000000000000004\n",
      "p_in 0.15000000000000002\n",
      "p_out 0.25000000000000006\n",
      "p_in 0.15000000000000002\n",
      "p_out 0.30000000000000004\n",
      "p_in 0.15000000000000002\n",
      "p_out 0.3500000000000001\n",
      "p_in 0.15000000000000002\n",
      "p_out 0.40000000000000013\n",
      "p_in 0.2\n",
      "p_out 0.1\n",
      "p_in 0.2\n",
      "p_out 0.15000000000000002\n",
      "p_in 0.2\n",
      "p_out 0.20000000000000004\n",
      "p_in 0.2\n",
      "p_out 0.25000000000000006\n",
      "p_in 0.2\n",
      "p_out 0.30000000000000004\n",
      "p_in 0.2\n",
      "p_out 0.3500000000000001\n",
      "p_in 0.2\n",
      "p_out 0.40000000000000013\n",
      "p_in 0.25\n",
      "p_out 0.1\n",
      "p_in 0.25\n",
      "p_out 0.15000000000000002\n",
      "p_in 0.25\n",
      "p_out 0.20000000000000004\n",
      "p_in 0.25\n",
      "p_out 0.25000000000000006\n",
      "p_in 0.25\n",
      "p_out 0.30000000000000004\n",
      "p_in 0.25\n",
      "p_out 0.3500000000000001\n",
      "p_in 0.25\n",
      "p_out 0.40000000000000013\n",
      "p_in 0.30000000000000004\n",
      "p_out 0.1\n",
      "p_in 0.30000000000000004\n",
      "p_out 0.15000000000000002\n",
      "p_in 0.30000000000000004\n",
      "p_out 0.20000000000000004\n",
      "p_in 0.30000000000000004\n",
      "p_out 0.25000000000000006\n",
      "p_in 0.30000000000000004\n",
      "p_out 0.30000000000000004\n",
      "p_in 0.30000000000000004\n",
      "p_out 0.3500000000000001\n",
      "p_in 0.30000000000000004\n",
      "p_out 0.40000000000000013\n",
      "p_in 0.35000000000000003\n",
      "p_out 0.1\n",
      "p_in 0.35000000000000003\n",
      "p_out 0.15000000000000002\n",
      "p_in 0.35000000000000003\n",
      "p_out 0.20000000000000004\n",
      "p_in 0.35000000000000003\n",
      "p_out 0.25000000000000006\n",
      "p_in 0.35000000000000003\n",
      "p_out 0.30000000000000004\n",
      "p_in 0.35000000000000003\n",
      "p_out 0.3500000000000001\n",
      "p_in 0.35000000000000003\n",
      "p_out 0.40000000000000013\n"
     ]
    }
   ],
   "source": [
    "from sklearn.metrics.cluster import normalized_mutual_info_score\n",
    "\n",
    "\n",
    "\n",
    "\n",
    "\n",
    "# NMIs_regInfo = [[[] for j in range(len(p_in_sinks_sources))] for h in range(len(p_out_sinks_sources))]\n",
    "# NCs_regInfo = [[[] for j in range(len(p_in_sinks_sources))] for h in range(len(p_out_sinks_sources))]\n",
    "\n",
    "NMIs_regInfo = np.zeros((len(p_in_sinks_sources),len(p_out_sinks_sources),20))\n",
    "NCs_regInfo = np.zeros((len(p_in_sinks_sources),len(p_out_sinks_sources),20))\n",
    "\n",
    "for m in np.arange(0,len(p_in_sinks_sources),1):\n",
    "    p_in = p_in_sinks_sources[m]\n",
    "    for l in range(len(p_out_sinks_sources)):\n",
    "        p_out = p_out_sinks_sources[l]\n",
    "        \n",
    "        print(\"p_in %s\"%p_in)\n",
    "        print(\"p_out %s\"%p_out)\n",
    "        \n",
    "\n",
    "        adj = np.load('replication Infomap/SBMs/complex_sbms/complex_w_ecore04_pin%s_pout%s_dir_graph_random_frac_Eremoved%s.npy'%(p_in,p_out,tikese[0]))\n",
    "        G = nx.from_numpy_array(adj,create_using=nx.DiGraph())\n",
    "\n",
    "        edge_list = list(G.edges)\n",
    "        nodes = list(G.nodes)\n",
    "        E = len(edge_list)\n",
    "        list_of_graphs = [G]\n",
    "        for frac in np.arange(1,15,1):\n",
    "            gr0 = np.load('replication Infomap/SBMs/complex_sbms/complex_w_ecore04_pin%s_pout%s_dir_graph_random_frac_Eremoved%s.npy'%(p_in,p_out,tikese[frac]))\n",
    "            G0 = nx.from_numpy_array(gr0,create_using=nx.DiGraph())\n",
    "\n",
    "            list_of_graphs.append(G0)\n",
    "\n",
    "\n",
    "\n",
    "\n",
    "\n",
    "        \n",
    "        \n",
    "        n_c_info_sbm = np.zeros(len(list_of_graphs))\n",
    "        nmi_info = np.zeros(len(list_of_graphs))\n",
    "        for i in range(len(list_of_graphs)):\n",
    "            G_w=list_of_graphs[i]\n",
    "            im = Infomap(silent=True,two_level=True,num_trials=50,regularized=True,regularization_strength=0.3)\n",
    "            im.add_networkx_graph(G_w)\n",
    "            im.run()\n",
    "\n",
    "            nodelist = G_w.nodes\n",
    "            modules = dict(im.modules)\n",
    "            infomap_ground_new = [modules[node] for node in nodelist]\n",
    "            nmi_info[i] = normalized_mutual_info_score(communities_new,infomap_ground_new)\n",
    "            n_c_info_sbm[i] = np.max(infomap_ground_new)\n",
    "            \n",
    "            NMIs_regInfo[m][l][i] = normalized_mutual_info_score(communities_new,infomap_ground_new)\n",
    "            NCs_regInfo[m][l][i] = np.max(infomap_ground_new)\n",
    "        \n",
    "        \n",
    "np.save('replication Infomap/SBMs/NMIs_REG_INFOMAP_pin_pout',NMIs_regInfo)\n",
    "np.save('replication Infomap/SBMs/NCs_REG_INFOMAP_pin_pout',NCs_regInfo)\n",
    "\n"
   ]
  },
  {
   "cell_type": "code",
   "execution_count": 14,
   "id": "3138ea22",
   "metadata": {},
   "outputs": [
    {
     "data": {
      "text/plain": [
       "array([ 5, 10, 15, 20, 25, 30, 35, 40, 45, 50, 55, 60, 65, 70, 75])"
      ]
     },
     "execution_count": 14,
     "metadata": {},
     "output_type": "execute_result"
    }
   ],
   "source": [
    "fractions=np.arange(5,96,5)[:15]\n",
    "fractions"
   ]
  },
  {
   "cell_type": "code",
   "execution_count": 19,
   "id": "50e354b1",
   "metadata": {},
   "outputs": [
    {
     "data": {
      "image/png": "[encoded data removed]",
      "text/plain": [
       "<Figure size 1152x1008 with 20 Axes>"
      ]
     },
     "metadata": {
      "needs_background": "light"
     },
     "output_type": "display_data"
    }
   ],
   "source": [
    "fig,ax = plt.subplots(5,2,figsize=(16,14),sharex=True,sharey=True)\n",
    "im=ax[0,0].imshow(NMIs_regInfo[:,:,0],aspect=0.4,cmap='Blues',vmax=1,vmin=0.5,origin='lower')\n",
    "ax[0,0].set_yticks(np.arange(0,len(p_in_sinks_sources),2),[0. , 0.1, 0.2, 0.3],fontsize=15)\n",
    "ax[0,0].set_ylabel(r'$p_{in}$',fontsize=20)\n",
    "ax[0,0].set_title(r\"$r=%s$\"%(fractions[0]/100),fontsize=25)\n",
    "\n",
    "\n",
    "im1=ax[1,0].imshow(NMIs_regInfo[:,:,3],aspect=0.4,cmap='Blues',vmax=1,vmin=0.5,origin='lower')\n",
    "ax[1,0].set_yticks(np.arange(0,len(p_in_sinks_sources),2),[0. , 0.1, 0.2, 0.3],fontsize=15)\n",
    "ax[1,0].set_ylabel(r'$p_{in}$',fontsize=20)\n",
    "ax[1,0].set_title(r\"$r=%s$\"%(fractions[3]/100),fontsize=25)\n",
    "\n",
    "\n",
    "im2=ax[2,0].imshow(NMIs_regInfo[:,:,7],aspect=0.4,cmap='Blues',vmax=1,vmin=0.5,origin='lower')\n",
    "ax[2,0].set_yticks(np.arange(0,len(p_in_sinks_sources),2),[0. , 0.1, 0.2, 0.3],fontsize=15)\n",
    "ax[2,0].set_xticks(np.arange(0,len(p_out_sinks_sources),1),[0.1 , 0.15, 0.2 , 0.25, 0.3 , 0.35, 0.4 ],fontsize=15)\n",
    "ax[2,0].set_ylabel(r'$p_{in}$',fontsize=20)\n",
    "# ax[2,0].set_xlabel(r'$p_{out}$',fontsize=20)\n",
    "ax[2,0].set_title(r\"$r=%s$\"%(fractions[7]/100),fontsize=25)\n",
    "\n",
    "\n",
    "imA=ax[3,0].imshow(NMIs_regInfo[:,:,11],aspect=0.4,cmap='Blues',vmax=1,vmin=0.5,origin='lower')\n",
    "ax[3,0].set_yticks(np.arange(0,len(p_in_sinks_sources),2),[0. , 0.1, 0.2, 0.3],fontsize=15)\n",
    "ax[3,0].set_xticks(np.arange(0,len(p_out_sinks_sources),1),[0.1 , 0.15, 0.2 , 0.25, 0.3 , 0.35, 0.4 ],fontsize=15)\n",
    "ax[3,0].set_ylabel(r'$p_{in}$',fontsize=20)\n",
    "# ax,0[3,0].set_xlabel(r'$p_{out}$',fontsize=20)\n",
    "ax[3,0].set_title(r\"$r=%s$\"%(fractions[11]/100),fontsize=25)\n",
    "\n",
    "imAA=ax[4,0].imshow(NMIs_regInfo[:,:,12],aspect=0.4,cmap='Blues',vmax=1,vmin=0.5,origin='lower')\n",
    "ax[4,0].set_yticks(np.arange(0,len(p_in_sinks_sources),2),[0. , 0.1, 0.2, 0.3],fontsize=15)\n",
    "ax[4,0].set_xticks(np.arange(0,len(p_out_sinks_sources),1),[0.1 , 0.15, 0.2 , 0.25, 0.3 , 0.35, 0.4 ],fontsize=15)\n",
    "ax[4,0].set_ylabel(r'$p_{in}$',fontsize=20)\n",
    "ax[4,0].set_xlabel(r'$p_{out}$',fontsize=20)\n",
    "ax[4,0].set_title(r\"$r=%s$\"%(fractions[12]/100),fontsize=25)\n",
    "\n",
    "cbar=fig.colorbar(im, ax=ax[0,0],aspect=8,pad=0.05)\n",
    "cbar.ax.tick_params(labelsize=15)\n",
    "cbar.set_label(r'$NMI^{Rinfo}_{GT}$',fontsize=15)\n",
    "\n",
    "cbar1=fig.colorbar(im1, ax=ax[1,0],aspect=8,pad=0.05)\n",
    "cbar1.ax.tick_params(labelsize=15)\n",
    "cbar1.set_label(r'$NMI^{Rinfo}_{GT}$',fontsize=15)\n",
    "\n",
    "cbar2=fig.colorbar(im2, ax=ax[2,0],aspect=8,pad=0.05)\n",
    "cbar2.ax.tick_params(labelsize=15)\n",
    "cbar2.set_label(r'$NMI^{Rinfo}_{GT}$',fontsize=15)\n",
    "\n",
    "cbarA=fig.colorbar(imA, ax=ax[3,0],aspect=8,pad=0.05)\n",
    "cbarA.ax.tick_params(labelsize=15)\n",
    "cbarA.set_label(r'$NMI^{Rinfo}_{GT}$',fontsize=15)\n",
    "\n",
    "cbarAA=fig.colorbar(imAA, ax=ax[4,0],aspect=8,pad=0.05)\n",
    "cbarAA.ax.tick_params(labelsize=15)\n",
    "cbarAA.set_label(r'$NMI^{Rinfo}_{GT}$',fontsize=15)\n",
    "\n",
    "im3=ax[0,1].imshow(NCs_regInfo[:,:,0],aspect=0.4,cmap='Blues',vmax=6,vmin=1,origin='lower')\n",
    "# Loop over data dimensions and create text annotations.\n",
    "for i in range(8):\n",
    "    for j in range(7):\n",
    "        text = ax[0,1].text(j, i, NCs_regInfo[i, j,0],\n",
    "                       ha=\"center\", va=\"center\", color=\"r\")\n",
    "\n",
    "# ax[0,1].set_ylabel(r'$p_{in}$',fontsize=20)\n",
    "\n",
    "\n",
    "im4=ax[1,1].imshow(NCs_regInfo[:,:,3],aspect=0.4,cmap='Blues',vmax=6,vmin=1,origin='lower')\n",
    "# ax[1,1].set_ylabel(r'$p_{in}$',fontsize=20)\n",
    "\n",
    "im5=ax[2,1].imshow(NCs_regInfo[:,:,7],aspect=0.4,cmap='Blues',vmax=6,vmin=1,origin='lower')\n",
    "# ax[2,1].set_xticks(np.arange(0,len(p_out_sinks_sources),1),[0.1 , 0.15, 0.2 , 0.25, 0.3 , 0.35, 0.4 ],fontsize=15)\n",
    "# ax[2,1].set_ylabel(r'$p_{in}$',fontsize=20)\n",
    "# ax[2,1].set_xlabel(r'$p_{out}$',fontsize=20)\n",
    "\n",
    "imB=ax[3,1].imshow(NCs_regInfo[:,:,11],aspect=0.4,cmap='Blues',vmax=6,vmin=1,origin='lower')\n",
    "ax[3,1].set_xticks(np.arange(0,len(p_out_sinks_sources),2),[0.1 , 0.2 , 0.3 , 0.4 ],fontsize=15)\n",
    "# ax[3,1].set_ylabel(r'$p_{in}$',fontsize=20)\n",
    "# ax[3,1].set_xlabel(r'$p_{out}$',fontsize=20)\n",
    "\n",
    "imBB=ax[4,1].imshow(NCs_regInfo[:,:,12],aspect=0.4,cmap='Blues',vmax=6,vmin=1,origin='lower')\n",
    "ax[4,1].set_xticks(np.arange(0,len(p_out_sinks_sources),2),[0.1 , 0.2 , 0.3 , 0.4 ],fontsize=15)\n",
    "# ax[4,1].set_ylabel(r'$p_{in}$',fontsize=20)\n",
    "ax[4,1].set_xlabel(r'$p_{out}$',fontsize=20)\n",
    "\n",
    "\n",
    "ax[0,1].set_title(r\"$r=%s$\"%(fractions[0]/100),fontsize=25)\n",
    "\n",
    "ax[1,1].set_title(r\"$r=%s$\"%(fractions[3]/100),fontsize=25)\n",
    "\n",
    "ax[2,1].set_title(r\"$r=%s$\"%(fractions[7]/100),fontsize=25)\n",
    "\n",
    "ax[3,1].set_title(r\"$r=%s$\"%(fractions[11]/100),fontsize=25)\n",
    "\n",
    "ax[4,1].set_title(r\"$r=%s$\"%(fractions[12]/100),fontsize=25)\n",
    "\n",
    "fig.suptitle(r'Regularised Infomap',fontsize=30)\n",
    "\n",
    "cbar3=fig.colorbar(im3, ax=ax[0,1],aspect=8,pad=0.05)\n",
    "cbar3.ax.tick_params(labelsize=15)\n",
    "cbar3.set_label(r'$N_c^{Rinfo}$',fontsize=15)\n",
    "\n",
    "cbar4=fig.colorbar(im4, ax=ax[1,1],aspect=8,pad=0.05)\n",
    "cbar4.ax.tick_params(labelsize=15)\n",
    "cbar4.set_label(r'$N_c^{Rinfo}$',fontsize=15)\n",
    "\n",
    "cbar5=fig.colorbar(im5, ax=ax[2,1],aspect=8,pad=0.05)\n",
    "cbar5.ax.tick_params(labelsize=15)\n",
    "cbar5.set_label(r'$N_c^{Rinfo}$',fontsize=15)\n",
    "\n",
    "cbarB=fig.colorbar(imB, ax=ax[3,1],aspect=8,pad=0.05)\n",
    "cbarB.ax.tick_params(labelsize=15)\n",
    "cbarB.set_label(r'$N_c^{Rinfo}$',fontsize=15)\n",
    "\n",
    "cbarBB=fig.colorbar(imBB, ax=ax[4,1],aspect=8,pad=0.05)\n",
    "cbarBB.ax.tick_params(labelsize=15)\n",
    "cbarBB.set_label(r'$N_c^{Rinfo}$',fontsize=15)\n",
    "plt.savefig('replication Infomap/SBMs/NMI_Nc_pin_pout_several_r.png')\n",
    "plt.savefig('replication Infomap/SBMs/NMI_Nc_pin_pout_several_r.svg')\n",
    "plt.savefig('replication Infomap/SBMs/NMI_Nc_pin_pout_several_r.pdf')\n",
    "\n",
    "\n",
    "\n",
    "plt.tight_layout()"
   ]
  }
 ],
 "metadata": {
  "kernelspec": {
   "display_name": "pygen",
   "language": "python",
   "name": "pygen"
  },
  "language_info": {
   "codemirror_mode": {
    "name": "ipython",
    "version": 3
   },
   "file_extension": ".py",
   "mimetype": "text/x-python",
   "name": "python",
   "nbconvert_exporter": "python",
   "pygments_lexer": "ipython3",
   "version": "3.10.4"
  }
 },
 "nbformat": 4,
 "nbformat_minor": 5
}
